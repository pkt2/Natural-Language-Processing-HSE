{
  "nbformat": 4,
  "nbformat_minor": 0,
  "metadata": {
    "kernelspec": {
      "display_name": "Python 3",
      "language": "python",
      "name": "python3"
    },
    "language_info": {
      "codemirror_mode": {
        "name": "ipython",
        "version": 3
      },
      "file_extension": ".py",
      "mimetype": "text/x-python",
      "name": "python",
      "nbconvert_exporter": "python",
      "pygments_lexer": "ipython3",
      "version": "3.4.3"
    },
    "colab": {
      "name": "week1-MultilabelClassification.ipynb",
      "provenance": []
    }
  },
  "cells": [
    {
      "cell_type": "markdown",
      "metadata": {
        "id": "8cPXVl5Fu_cM",
        "colab_type": "text"
      },
      "source": [
        "# Predict tags on StackOverflow with linear models"
      ]
    },
    {
      "cell_type": "markdown",
      "metadata": {
        "id": "dq8-r19Mu_cQ",
        "colab_type": "text"
      },
      "source": [
        "In this assignment you will learn how to predict tags for posts from [StackOverflow](https://stackoverflow.com). To solve this task you will use multilabel classification approach.\n",
        "\n",
        "### Libraries\n",
        "\n",
        "In this task you will need the following libraries:\n",
        "- [Numpy](http://www.numpy.org) — a package for scientific computing.\n",
        "- [Pandas](https://pandas.pydata.org) — a library providing high-performance, easy-to-use data structures and data analysis tools for the Python\n",
        "- [scikit-learn](http://scikit-learn.org/stable/index.html) — a tool for data mining and data analysis.\n",
        "- [NLTK](http://www.nltk.org) — a platform to work with natural language."
      ]
    },
    {
      "cell_type": "markdown",
      "metadata": {
        "id": "7K7-Q4Flu_cS",
        "colab_type": "text"
      },
      "source": [
        "### Data\n",
        "\n",
        "The following cell will download all data required for this assignment into the folder `week1/data`."
      ]
    },
    {
      "cell_type": "code",
      "metadata": {
        "id": "J1tECyFdu_cZ",
        "colab_type": "code",
        "outputId": "5737b531-34a2-4e41-da23-fc55655ffa53",
        "colab": {
          "base_uri": "https://localhost:8080/",
          "height": 272
        }
      },
      "source": [
        "! wget https://raw.githubusercontent.com/hse-aml/natural-language-processing/master/setup_google_colab.py -O setup_google_colab.py\n",
        "import setup_google_colab\n",
        "# please, uncomment the week you're working on\n",
        "setup_google_colab.setup_week1()  \n",
        "# setup_google_colab.setup_week2()\n",
        "# setup_google_colab.setup_week3()\n",
        "# setup_google_colab.setup_week4()\n",
        "# setup_google_colab.setup_project()\n",
        "# setup_google_colab.setup_honor()\n",
        "\n",
        "\n",
        "import sys\n",
        "sys.path.append(\"..\")\n",
        "from common.download_utils import download_week1_resources\n",
        "\n",
        "download_week1_resources()"
      ],
      "execution_count": 107,
      "outputs": [
        {
          "output_type": "stream",
          "text": [
            "--2020-04-30 08:02:19--  https://raw.githubusercontent.com/hse-aml/natural-language-processing/master/setup_google_colab.py\n",
            "Resolving raw.githubusercontent.com (raw.githubusercontent.com)... 151.101.0.133, 151.101.64.133, 151.101.128.133, ...\n",
            "Connecting to raw.githubusercontent.com (raw.githubusercontent.com)|151.101.0.133|:443... connected.\n",
            "HTTP request sent, awaiting response... 200 OK\n",
            "Length: 1991 (1.9K) [text/plain]\n",
            "Saving to: ‘setup_google_colab.py’\n",
            "\n",
            "\rsetup_google_colab.   0%[                    ]       0  --.-KB/s               \rsetup_google_colab. 100%[===================>]   1.94K  --.-KB/s    in 0s      \n",
            "\n",
            "2020-04-30 08:02:19 (35.0 MB/s) - ‘setup_google_colab.py’ saved [1991/1991]\n",
            "\n",
            "File data/train.tsv is already downloaded.\n",
            "File data/validation.tsv is already downloaded.\n",
            "File data/test.tsv is already downloaded.\n",
            "File data/text_prepare_tests.tsv is already downloaded.\n"
          ],
          "name": "stdout"
        }
      ]
    },
    {
      "cell_type": "markdown",
      "metadata": {
        "id": "QZNqv1sKu_cq",
        "colab_type": "text"
      },
      "source": [
        "### Grading\n",
        "We will create a grader instance below and use it to collect your answers. Note that these outputs will be stored locally inside grader and will be uploaded to platform only after running submitting function in the last part of this assignment. If you want to make partial submission, you can run that cell any time you want."
      ]
    },
    {
      "cell_type": "code",
      "metadata": {
        "id": "efHFWOeTu_ct",
        "colab_type": "code",
        "colab": {}
      },
      "source": [
        "from grader import Grader"
      ],
      "execution_count": 0,
      "outputs": []
    },
    {
      "cell_type": "code",
      "metadata": {
        "id": "y9JEk-t9u_c5",
        "colab_type": "code",
        "colab": {}
      },
      "source": [
        "grader = Grader()"
      ],
      "execution_count": 0,
      "outputs": []
    },
    {
      "cell_type": "markdown",
      "metadata": {
        "id": "71jLz0Rmu_dE",
        "colab_type": "text"
      },
      "source": [
        "### Text preprocessing"
      ]
    },
    {
      "cell_type": "markdown",
      "metadata": {
        "id": "Amw0wQ2wu_dG",
        "colab_type": "text"
      },
      "source": [
        "For this and most of the following assignments you will need to use a list of stop words. It can be downloaded from *nltk*:"
      ]
    },
    {
      "cell_type": "code",
      "metadata": {
        "id": "szoSD2aou_dJ",
        "colab_type": "code",
        "colab": {
          "base_uri": "https://localhost:8080/",
          "height": 51
        },
        "outputId": "8fe46c02-caf5-434d-9100-94bbda44a2b0"
      },
      "source": [
        "import nltk\n",
        "nltk.download('stopwords')\n",
        "from nltk.corpus import stopwords"
      ],
      "execution_count": 110,
      "outputs": [
        {
          "output_type": "stream",
          "text": [
            "[nltk_data] Downloading package stopwords to /root/nltk_data...\n",
            "[nltk_data]   Package stopwords is already up-to-date!\n"
          ],
          "name": "stderr"
        }
      ]
    },
    {
      "cell_type": "markdown",
      "metadata": {
        "id": "oLJnIHKEu_dX",
        "colab_type": "text"
      },
      "source": [
        "In this task you will deal with a dataset of post titles from StackOverflow. You are provided a split to 3 sets: *train*, *validation* and *test*. All corpora (except for *test*) contain titles of the posts and corresponding tags (100 tags are available). The *test* set is provided for Coursera's grading and doesn't contain answers. Upload the corpora using *pandas* and look at the data:"
      ]
    },
    {
      "cell_type": "code",
      "metadata": {
        "id": "pn1sVsRfu_dZ",
        "colab_type": "code",
        "colab": {}
      },
      "source": [
        "from ast import literal_eval\n",
        "import pandas as pd\n",
        "import numpy as np"
      ],
      "execution_count": 0,
      "outputs": []
    },
    {
      "cell_type": "code",
      "metadata": {
        "id": "cCfAB-svu_dm",
        "colab_type": "code",
        "colab": {}
      },
      "source": [
        "def read_data(filename):\n",
        "    data = pd.read_csv(filename, sep='\\t')\n",
        "    data['tags'] = data['tags'].apply(literal_eval)\n",
        "    return data"
      ],
      "execution_count": 0,
      "outputs": []
    },
    {
      "cell_type": "code",
      "metadata": {
        "id": "OPdTV69zu_dy",
        "colab_type": "code",
        "colab": {}
      },
      "source": [
        "train = read_data('data/train.tsv')\n",
        "validation = read_data('data/validation.tsv')\n",
        "test = pd.read_csv('data/test.tsv', sep='\\t')"
      ],
      "execution_count": 0,
      "outputs": []
    },
    {
      "cell_type": "code",
      "metadata": {
        "id": "J9AgmV0Cu_d8",
        "colab_type": "code",
        "colab": {
          "base_uri": "https://localhost:8080/",
          "height": 204
        },
        "outputId": "bc444501-82e2-459d-eeeb-a13f0a876ff8"
      },
      "source": [
        "train.head()"
      ],
      "execution_count": 114,
      "outputs": [
        {
          "output_type": "execute_result",
          "data": {
            "text/html": [
              "<div>\n",
              "<style scoped>\n",
              "    .dataframe tbody tr th:only-of-type {\n",
              "        vertical-align: middle;\n",
              "    }\n",
              "\n",
              "    .dataframe tbody tr th {\n",
              "        vertical-align: top;\n",
              "    }\n",
              "\n",
              "    .dataframe thead th {\n",
              "        text-align: right;\n",
              "    }\n",
              "</style>\n",
              "<table border=\"1\" class=\"dataframe\">\n",
              "  <thead>\n",
              "    <tr style=\"text-align: right;\">\n",
              "      <th></th>\n",
              "      <th>title</th>\n",
              "      <th>tags</th>\n",
              "    </tr>\n",
              "  </thead>\n",
              "  <tbody>\n",
              "    <tr>\n",
              "      <th>0</th>\n",
              "      <td>How to draw a stacked dotplot in R?</td>\n",
              "      <td>[r]</td>\n",
              "    </tr>\n",
              "    <tr>\n",
              "      <th>1</th>\n",
              "      <td>mysql select all records where a datetime fiel...</td>\n",
              "      <td>[php, mysql]</td>\n",
              "    </tr>\n",
              "    <tr>\n",
              "      <th>2</th>\n",
              "      <td>How to terminate windows phone 8.1 app</td>\n",
              "      <td>[c#]</td>\n",
              "    </tr>\n",
              "    <tr>\n",
              "      <th>3</th>\n",
              "      <td>get current time in a specific country via jquery</td>\n",
              "      <td>[javascript, jquery]</td>\n",
              "    </tr>\n",
              "    <tr>\n",
              "      <th>4</th>\n",
              "      <td>Configuring Tomcat to Use SSL</td>\n",
              "      <td>[java]</td>\n",
              "    </tr>\n",
              "  </tbody>\n",
              "</table>\n",
              "</div>"
            ],
            "text/plain": [
              "                                               title                  tags\n",
              "0                How to draw a stacked dotplot in R?                   [r]\n",
              "1  mysql select all records where a datetime fiel...          [php, mysql]\n",
              "2             How to terminate windows phone 8.1 app                  [c#]\n",
              "3  get current time in a specific country via jquery  [javascript, jquery]\n",
              "4                      Configuring Tomcat to Use SSL                [java]"
            ]
          },
          "metadata": {
            "tags": []
          },
          "execution_count": 114
        }
      ]
    },
    {
      "cell_type": "markdown",
      "metadata": {
        "id": "xfRF5Fr1u_eF",
        "colab_type": "text"
      },
      "source": [
        "As you can see, *title* column contains titles of the posts and *tags* column contains the tags. It could be noticed that a number of tags for a post is not fixed and could be as many as necessary."
      ]
    },
    {
      "cell_type": "markdown",
      "metadata": {
        "id": "BGhv_Cksu_eH",
        "colab_type": "text"
      },
      "source": [
        "For a more comfortable usage, initialize *X_train*, *X_val*, *X_test*, *y_train*, *y_val*."
      ]
    },
    {
      "cell_type": "code",
      "metadata": {
        "id": "gjlLv3Ltu_eJ",
        "colab_type": "code",
        "colab": {}
      },
      "source": [
        "X_train, y_train = train['title'].values, train['tags'].values\n",
        "X_val, y_val = validation['title'].values, validation['tags'].values\n",
        "X_test = test['title'].values"
      ],
      "execution_count": 0,
      "outputs": []
    },
    {
      "cell_type": "markdown",
      "metadata": {
        "id": "dRnWMjlnu_eZ",
        "colab_type": "text"
      },
      "source": [
        "One of the most known difficulties when working with natural data is that it's unstructured. For example, if you use it \"as is\" and extract tokens just by splitting the titles by whitespaces, you will see that there are many \"weird\" tokens like *3.5?*, *\"Flip*, etc. To prevent the problems, it's usually useful to prepare the data somehow. In this task you'll write a function, which will be also used in the other assignments. \n",
        "\n",
        "**Task 1 (TextPrepare).** Implement the function *text_prepare* following the instructions. After that, run the function *test_text_prepare* to test it on tiny cases and submit it to Coursera."
      ]
    },
    {
      "cell_type": "code",
      "metadata": {
        "id": "863uT7xRu_ea",
        "colab_type": "code",
        "colab": {}
      },
      "source": [
        "import re"
      ],
      "execution_count": 0,
      "outputs": []
    },
    {
      "cell_type": "code",
      "metadata": {
        "id": "naly8KTxu_eh",
        "colab_type": "code",
        "colab": {}
      },
      "source": [
        "REPLACE_BY_SPACE_RE = re.compile('[/(){}\\[\\]\\|@,;]')\n",
        "BAD_SYMBOLS_RE = re.compile('[^0-9a-z #+_]')\n",
        "STOPWORDS = set(stopwords.words('english'))\n",
        "\n",
        "def text_prepare(text):\n",
        "    \"\"\"\n",
        "        text: a string\n",
        "        \n",
        "        return: modified initial string\n",
        "    \"\"\"\n",
        "    text = text.lower()  # lowercase text\n",
        "    text = re.sub(REPLACE_BY_SPACE_RE, \" \", text)  # replace REPLACE_BY_SPACE_RE symbols by space in text\n",
        "    text = re.sub(BAD_SYMBOLS_RE, \"\", text)  # delete symbols which are in BAD_SYMBOLS_RE from text\n",
        "    # delete stopwords from text\n",
        "    split = text.split()\n",
        "    text2 = \"\"\n",
        "    for i in split:\n",
        "      if i not in STOPWORDS:\n",
        "        text2 = text2 + \" \" + i\n",
        "    return text2.lstrip()"
      ],
      "execution_count": 0,
      "outputs": []
    },
    {
      "cell_type": "code",
      "metadata": {
        "id": "zmqgqMFJu_el",
        "colab_type": "code",
        "colab": {}
      },
      "source": [
        "def test_text_prepare():\n",
        "    examples = [\"SQL Server - any equivalent of Excel's CHOOSE function?\",\n",
        "                \"How to free c++ memory vector<int> * arr?\"]\n",
        "    answers = [\"sql server equivalent excels choose function\", \n",
        "               \"free c++ memory vectorint arr\"]\n",
        "    for ex, ans in zip(examples, answers):\n",
        "        if text_prepare(ex) != ans:\n",
        "            return \"Wrong answer for the case: '%s'\" % ex\n",
        "    return 'Basic tests are passed.'"
      ],
      "execution_count": 0,
      "outputs": []
    },
    {
      "cell_type": "code",
      "metadata": {
        "id": "GoxOIMT6u_eq",
        "colab_type": "code",
        "colab": {
          "base_uri": "https://localhost:8080/",
          "height": 34
        },
        "outputId": "2f68205a-b652-46f5-8057-7963c98dff41"
      },
      "source": [
        "print(test_text_prepare())"
      ],
      "execution_count": 119,
      "outputs": [
        {
          "output_type": "stream",
          "text": [
            "Basic tests are passed.\n"
          ],
          "name": "stdout"
        }
      ]
    },
    {
      "cell_type": "markdown",
      "metadata": {
        "id": "OocwIBB-u_eu",
        "colab_type": "text"
      },
      "source": [
        "Run your implementation for questions from file *text_prepare_tests.tsv* to earn the points."
      ]
    },
    {
      "cell_type": "code",
      "metadata": {
        "id": "Xwix8uULu_eu",
        "colab_type": "code",
        "colab": {
          "base_uri": "https://localhost:8080/",
          "height": 102
        },
        "outputId": "4f7add98-ae42-4295-8633-1e9aac44b0b9"
      },
      "source": [
        "prepared_questions = []\n",
        "for line in open('data/text_prepare_tests.tsv', encoding='utf-8'):\n",
        "    line = text_prepare(line.strip())\n",
        "    prepared_questions.append(line)\n",
        "text_prepare_results = '\\n'.join(prepared_questions)\n",
        "\n",
        "grader.submit_tag('TextPrepare', text_prepare_results)"
      ],
      "execution_count": 120,
      "outputs": [
        {
          "output_type": "stream",
          "text": [
            "Current answer for task TextPrepare is:\n",
            " sqlite php readonly\n",
            "creating multiple textboxes dynamically\n",
            "self one prefer javascript\n",
            "save php date...\n"
          ],
          "name": "stdout"
        }
      ]
    },
    {
      "cell_type": "markdown",
      "metadata": {
        "id": "3KpA9ul5u_ez",
        "colab_type": "text"
      },
      "source": [
        "Now we can preprocess the titles using function *text_prepare* and  making sure that the headers don't have bad symbols:"
      ]
    },
    {
      "cell_type": "code",
      "metadata": {
        "id": "RNMocZnZu_ez",
        "colab_type": "code",
        "colab": {}
      },
      "source": [
        "X_train = [text_prepare(x) for x in X_train]\n",
        "X_val = [text_prepare(x) for x in X_val]\n",
        "X_test = [text_prepare(x) for x in X_test]"
      ],
      "execution_count": 0,
      "outputs": []
    },
    {
      "cell_type": "code",
      "metadata": {
        "id": "ZOOEL22Xu_e3",
        "colab_type": "code",
        "colab": {
          "base_uri": "https://localhost:8080/",
          "height": 68
        },
        "outputId": "1f73b357-ffd2-4a07-e6cd-97bbf0144a16"
      },
      "source": [
        "X_train[:3]"
      ],
      "execution_count": 122,
      "outputs": [
        {
          "output_type": "execute_result",
          "data": {
            "text/plain": [
              "['draw stacked dotplot r',\n",
              " 'mysql select records datetime field less specified value',\n",
              " 'terminate windows phone 81 app']"
            ]
          },
          "metadata": {
            "tags": []
          },
          "execution_count": 122
        }
      ]
    },
    {
      "cell_type": "markdown",
      "metadata": {
        "id": "RYt0zgfxu_e6",
        "colab_type": "text"
      },
      "source": [
        "For each tag and for each word calculate how many times they occur in the train corpus. \n",
        "\n",
        "**Task 2 (WordsTagsCount).** Find 3 most popular tags and 3 most popular words in the train data and submit the results to earn the points."
      ]
    },
    {
      "cell_type": "code",
      "metadata": {
        "id": "fv7649PUu_e7",
        "colab_type": "code",
        "colab": {}
      },
      "source": [
        "# Dictionary of all tags from train corpus with their counts.\n",
        "tags_counts = {}\n",
        "# Dictionary of all words from train corpus with their counts.\n",
        "words_counts = {}\n",
        "\n",
        "for line in X_train:\n",
        "  for word in line.split():\n",
        "    if word in words_counts:\n",
        "      words_counts[word] = words_counts[word] + 1\n",
        "    else:\n",
        "      words_counts[word] = 1  \n",
        "\n",
        "for line in y_train:\n",
        "  for word in line:\n",
        "    if word in tags_counts:\n",
        "      tags_counts[word] = tags_counts[word] + 1\n",
        "    else:\n",
        "      tags_counts[word] = 1        "
      ],
      "execution_count": 0,
      "outputs": []
    },
    {
      "cell_type": "markdown",
      "metadata": {
        "id": "_YEubpWhu_e-",
        "colab_type": "text"
      },
      "source": [
        "We are assuming that *tags_counts* and *words_counts* are dictionaries like `{'some_word_or_tag': frequency}`. After applying the sorting procedure, results will be look like this: `[('most_popular_word_or_tag', frequency), ('less_popular_word_or_tag', frequency), ...]`. The grader gets the results in the following format (two comma-separated strings with line break):\n",
        "\n",
        "    tag1,tag2,tag3\n",
        "    word1,word2,word3\n",
        "\n",
        "Pay attention that in this assignment you should not submit frequencies or some additional information."
      ]
    },
    {
      "cell_type": "code",
      "metadata": {
        "id": "H9h3ncJqu_e_",
        "colab_type": "code",
        "colab": {
          "base_uri": "https://localhost:8080/",
          "height": 68
        },
        "outputId": "c1d94c02-9cbe-412e-81eb-041dcc5127ea"
      },
      "source": [
        "most_common_tags = sorted(tags_counts.items(), key=lambda x: x[1], reverse=True)[:3]\n",
        "most_common_words = sorted(words_counts.items(), key=lambda x: x[1], reverse=True)[:3]\n",
        "\n",
        "grader.submit_tag('WordsTagsCount', '%s\\n%s' % (','.join(tag for tag, _ in most_common_tags), \n",
        "                                                ','.join(word for word, _ in most_common_words)))"
      ],
      "execution_count": 124,
      "outputs": [
        {
          "output_type": "stream",
          "text": [
            "Current answer for task WordsTagsCount is:\n",
            " javascript,c#,java\n",
            "using,php,java...\n"
          ],
          "name": "stdout"
        }
      ]
    },
    {
      "cell_type": "code",
      "metadata": {
        "id": "PLna-ANucL9z",
        "colab_type": "code",
        "colab": {
          "base_uri": "https://localhost:8080/",
          "height": 51
        },
        "outputId": "756944b5-184a-4e6a-94e4-9de6db36838a"
      },
      "source": [
        "print(most_common_tags)\n",
        "print(most_common_words)"
      ],
      "execution_count": 125,
      "outputs": [
        {
          "output_type": "stream",
          "text": [
            "[('javascript', 19078), ('c#', 19077), ('java', 18661)]\n",
            "[('using', 8278), ('php', 5614), ('java', 5501)]\n"
          ],
          "name": "stdout"
        }
      ]
    },
    {
      "cell_type": "markdown",
      "metadata": {
        "id": "UxUwAlLou_fB",
        "colab_type": "text"
      },
      "source": [
        "### Transforming text to a vector\n",
        "\n",
        "Machine Learning algorithms work with numeric data and we cannot use the provided text data \"as is\". There are many ways to transform text data to numeric vectors. In this task you will try to use two of them.\n",
        "\n",
        "#### Bag of words\n",
        "\n",
        "One of the well-known approaches is a *bag-of-words* representation. To create this transformation, follow the steps:\n",
        "1. Find *N* most popular words in train corpus and numerate them. Now we have a dictionary of the most popular words.\n",
        "2. For each title in the corpora create a zero vector with the dimension equals to *N*.\n",
        "3. For each text in the corpora iterate over words which are in the dictionary and increase by 1 the corresponding coordinate.\n",
        "\n",
        "Let's try to do it for a toy example. Imagine that we have *N* = 4 and the list of the most popular words is \n",
        "\n",
        "    ['hi', 'you', 'me', 'are']\n",
        "\n",
        "Then we need to numerate them, for example, like this: \n",
        "\n",
        "    {'hi': 0, 'you': 1, 'me': 2, 'are': 3}\n",
        "\n",
        "And we have the text, which we want to transform to the vector:\n",
        "\n",
        "    'hi how are you'\n",
        "\n",
        "For this text we create a corresponding zero vector \n",
        "\n",
        "    [0, 0, 0, 0]\n",
        "    \n",
        "And iterate over all words, and if the word is in the dictionary, we increase the value of the corresponding position in the vector:\n",
        "\n",
        "    'hi':  [1, 0, 0, 0]\n",
        "    'how': [1, 0, 0, 0] # word 'how' is not in our dictionary\n",
        "    'are': [1, 0, 0, 1]\n",
        "    'you': [1, 1, 0, 1]\n",
        "\n",
        "The resulting vector will be \n",
        "\n",
        "    [1, 1, 0, 1]\n",
        "   \n",
        "Implement the described encoding in the function *my_bag_of_words* with the size of the dictionary equals to 5000. To find the most common words use train data. You can test your code using the function *test_my_bag_of_words*."
      ]
    },
    {
      "cell_type": "code",
      "metadata": {
        "id": "vytdDe1nu_fC",
        "colab_type": "code",
        "colab": {}
      },
      "source": [
        "DICT_SIZE = 5000\n",
        "most_common_words = sorted(words_counts.items(), key=lambda x: x[1], reverse=True)[:DICT_SIZE]\n",
        "WORDS_TO_INDEX = {most_common_words[k][0]:k for k in range(DICT_SIZE)}\n",
        "INDEX_TO_WORDS = {k:most_common_words[k][0] for k in range(DICT_SIZE)}\n",
        "ALL_WORDS = WORDS_TO_INDEX.keys()\n",
        "\n",
        "def my_bag_of_words(text, words_to_index, dict_size):\n",
        "    \"\"\"\n",
        "        text: a string\n",
        "        dict_size: size of the dictionary\n",
        "        \n",
        "        return a vector which is a bag-of-words representation of 'text'\n",
        "    \"\"\"\n",
        "    result_vector = np.zeros(dict_size)\n",
        "    for word in text.split():\n",
        "        if word in words_to_index.keys():\n",
        "            result_vector[words_to_index[word]]=1\n",
        "    return result_vector"
      ],
      "execution_count": 0,
      "outputs": []
    },
    {
      "cell_type": "code",
      "metadata": {
        "id": "a0_HnmcUu_fF",
        "colab_type": "code",
        "colab": {}
      },
      "source": [
        "def test_my_bag_of_words():\n",
        "    words_to_index = {'hi': 0, 'you': 1, 'me': 2, 'are': 3}\n",
        "    examples = ['hi how are you']\n",
        "    answers = [[1, 1, 0, 1]]\n",
        "    for ex, ans in zip(examples, answers):\n",
        "        if (my_bag_of_words(ex, words_to_index, 4) != ans).any():\n",
        "            return \"Wrong answer for the case: '%s'\" % ex\n",
        "    return 'Basic tests are passed.'"
      ],
      "execution_count": 0,
      "outputs": []
    },
    {
      "cell_type": "code",
      "metadata": {
        "id": "av81PQyuu_fJ",
        "colab_type": "code",
        "colab": {
          "base_uri": "https://localhost:8080/",
          "height": 34
        },
        "outputId": "f2322090-28aa-4446-fb5f-ad8505f45a43"
      },
      "source": [
        "print(test_my_bag_of_words())"
      ],
      "execution_count": 128,
      "outputs": [
        {
          "output_type": "stream",
          "text": [
            "Basic tests are passed.\n"
          ],
          "name": "stdout"
        }
      ]
    },
    {
      "cell_type": "markdown",
      "metadata": {
        "id": "4dHralD4u_fN",
        "colab_type": "text"
      },
      "source": [
        "Now apply the implemented function to all samples (this might take up to a minute):"
      ]
    },
    {
      "cell_type": "code",
      "metadata": {
        "id": "FdBKKFLIu_fN",
        "colab_type": "code",
        "colab": {}
      },
      "source": [
        "from scipy import sparse as sp_sparse"
      ],
      "execution_count": 0,
      "outputs": []
    },
    {
      "cell_type": "code",
      "metadata": {
        "id": "K45RHuMQu_fR",
        "colab_type": "code",
        "colab": {
          "base_uri": "https://localhost:8080/",
          "height": 68
        },
        "outputId": "cb285948-878e-44c2-e86a-b807d5a44c26"
      },
      "source": [
        "X_train_mybag = sp_sparse.vstack([sp_sparse.csr_matrix(my_bag_of_words(text, WORDS_TO_INDEX, DICT_SIZE)) for text in X_train])\n",
        "X_val_mybag = sp_sparse.vstack([sp_sparse.csr_matrix(my_bag_of_words(text, WORDS_TO_INDEX, DICT_SIZE)) for text in X_val])\n",
        "X_test_mybag = sp_sparse.vstack([sp_sparse.csr_matrix(my_bag_of_words(text, WORDS_TO_INDEX, DICT_SIZE)) for text in X_test])\n",
        "print('X_train shape ', X_train_mybag.shape)\n",
        "print('X_val shape ', X_val_mybag.shape)\n",
        "print('X_test shape ', X_test_mybag.shape)"
      ],
      "execution_count": 130,
      "outputs": [
        {
          "output_type": "stream",
          "text": [
            "X_train shape  (100000, 5000)\n",
            "X_val shape  (30000, 5000)\n",
            "X_test shape  (20000, 5000)\n"
          ],
          "name": "stdout"
        }
      ]
    },
    {
      "cell_type": "markdown",
      "metadata": {
        "id": "Wnb28jCju_fU",
        "colab_type": "text"
      },
      "source": [
        "As you might notice, we transform the data to sparse representation, to store the useful information efficiently. There are many [types](https://docs.scipy.org/doc/scipy/reference/sparse.html) of such representations, however sklearn algorithms can work only with [csr](https://docs.scipy.org/doc/scipy/reference/generated/scipy.sparse.csr_matrix.html#scipy.sparse.csr_matrix) matrix, so we will use this one."
      ]
    },
    {
      "cell_type": "markdown",
      "metadata": {
        "id": "HqsJMm-pu_fV",
        "colab_type": "text"
      },
      "source": [
        "**Task 3 (BagOfWords).** For the 11th row in *X_train_mybag* find how many non-zero elements it has. In this task the answer (variable *non_zero_elements_count*) should be an integer number, e.g. 20."
      ]
    },
    {
      "cell_type": "code",
      "metadata": {
        "id": "hGiEFwA_u_fV",
        "colab_type": "code",
        "colab": {
          "base_uri": "https://localhost:8080/",
          "height": 51
        },
        "outputId": "8fdce3e1-77bf-4a6c-86b4-6fbeaa0875ec"
      },
      "source": [
        "row = X_train_mybag[10].toarray()[0]\n",
        "non_zero_elements_count = int(sum(row))\n",
        "\n",
        "grader.submit_tag('BagOfWords', str(non_zero_elements_count))"
      ],
      "execution_count": 131,
      "outputs": [
        {
          "output_type": "stream",
          "text": [
            "Current answer for task BagOfWords is:\n",
            " 7...\n"
          ],
          "name": "stdout"
        }
      ]
    },
    {
      "cell_type": "markdown",
      "metadata": {
        "id": "NJYqHaz4u_fZ",
        "colab_type": "text"
      },
      "source": [
        "#### TF-IDF\n",
        "\n",
        "The second approach extends the bag-of-words framework by taking into account total frequencies of words in the corpora. It helps to penalize too frequent words and provide better features space. \n",
        "\n",
        "Implement function *tfidf_features* using class [TfidfVectorizer](http://scikit-learn.org/stable/modules/generated/sklearn.feature_extraction.text.TfidfVectorizer.html) from *scikit-learn*. Use *train* corpus to train a vectorizer. Don't forget to take a look into the arguments that you can pass to it. We suggest that you filter out too rare words (occur less than in 5 titles) and too frequent words (occur more than in 90% of the titles). Also, use bigrams along with unigrams in your vocabulary. "
      ]
    },
    {
      "cell_type": "code",
      "metadata": {
        "id": "mHaLJcPqu_fa",
        "colab_type": "code",
        "colab": {}
      },
      "source": [
        "from sklearn.feature_extraction.text import TfidfVectorizer"
      ],
      "execution_count": 0,
      "outputs": []
    },
    {
      "cell_type": "code",
      "metadata": {
        "id": "cuB7FypZu_fd",
        "colab_type": "code",
        "colab": {}
      },
      "source": [
        "def tfidf_features(X_train, X_val, X_test):\n",
        "    \"\"\"\n",
        "        X_train, X_val, X_test — samples        \n",
        "        return TF-IDF vectorized representation of each sample and vocabulary\n",
        "    \"\"\"\n",
        "    # Create TF-IDF vectorizer with a proper parameters choice\n",
        "    # Fit the vectorizer on the train set\n",
        "    # Transform the train, test, and val sets and return the result\n",
        "    \n",
        "    \n",
        "    tfidf_vectorizer = TfidfVectorizer(token_pattern=\"(\\S+)\", min_df= 5, max_df= 0.9, ngram_range = (1,2))\n",
        "    tfidf_vectorizer = tfidf_vectorizer.fit(X_train)\n",
        "    X_train = tfidf_vectorizer.transform(X_train)\n",
        "    X_val = tfidf_vectorizer.transform(X_val)\n",
        "    X_test = tfidf_vectorizer.transform(X_test)\n",
        "    \n",
        "    return X_train, X_val, X_test, tfidf_vectorizer.vocabulary_"
      ],
      "execution_count": 0,
      "outputs": []
    },
    {
      "cell_type": "markdown",
      "metadata": {
        "id": "TUInUw2Ju_fh",
        "colab_type": "text"
      },
      "source": [
        "Once you have done text preprocessing, always have a look at the results. Be very careful at this step, because the performance of future models will drastically depend on it. \n",
        "\n",
        "In this case, check whether you have c++ or c# in your vocabulary, as they are obviously important tokens in our tags prediction task:"
      ]
    },
    {
      "cell_type": "code",
      "metadata": {
        "id": "8Vr778hcu_fh",
        "colab_type": "code",
        "colab": {}
      },
      "source": [
        "X_train_tfidf, X_val_tfidf, X_test_tfidf, tfidf_vocab = tfidf_features(X_train, X_val, X_test)\n",
        "tfidf_reversed_vocab = {i:word for word,i in tfidf_vocab.items()}"
      ],
      "execution_count": 0,
      "outputs": []
    },
    {
      "cell_type": "code",
      "metadata": {
        "id": "Am9ozuJ2u_fl",
        "colab_type": "code",
        "colab": {
          "base_uri": "https://localhost:8080/",
          "height": 34
        },
        "outputId": "5404b2bb-ab18-4f56-a78b-0bff84c67b15"
      },
      "source": [
        "print(\"c#\" in tfidf_vocab.keys())"
      ],
      "execution_count": 135,
      "outputs": [
        {
          "output_type": "stream",
          "text": [
            "True\n"
          ],
          "name": "stdout"
        }
      ]
    },
    {
      "cell_type": "markdown",
      "metadata": {
        "id": "-ScGi8xqu_fp",
        "colab_type": "text"
      },
      "source": [
        "If you can't find it, we need to understand how did it happen that we lost them? It happened during the built-in tokenization of TfidfVectorizer. Luckily, we can influence on this process. Get back to the function above and use '(\\S+)' regexp as a *token_pattern* in the constructor of the vectorizer.  "
      ]
    },
    {
      "cell_type": "markdown",
      "metadata": {
        "id": "RWZxftYsu_fq",
        "colab_type": "text"
      },
      "source": [
        "Now, use this transormation for the data and check again."
      ]
    },
    {
      "cell_type": "code",
      "metadata": {
        "id": "mZBakdMVu_fq",
        "colab_type": "code",
        "colab": {
          "base_uri": "https://localhost:8080/",
          "height": 34
        },
        "outputId": "ae5fccaf-42c6-4c5d-9faa-a34f81f92cce"
      },
      "source": [
        "print(\"c#\" in tfidf_vocab.keys())"
      ],
      "execution_count": 136,
      "outputs": [
        {
          "output_type": "stream",
          "text": [
            "True\n"
          ],
          "name": "stdout"
        }
      ]
    },
    {
      "cell_type": "markdown",
      "metadata": {
        "id": "Jq6hreD2u_fu",
        "colab_type": "text"
      },
      "source": [
        "### MultiLabel classifier\n",
        "\n",
        "As we have noticed before, in this task each example can have multiple tags. To deal with such kind of prediction, we need to transform labels in a binary form and the prediction will be a mask of 0s and 1s. For this purpose it is convenient to use [MultiLabelBinarizer](http://scikit-learn.org/stable/modules/generated/sklearn.preprocessing.MultiLabelBinarizer.html) from *sklearn*."
      ]
    },
    {
      "cell_type": "code",
      "metadata": {
        "id": "8wu2yyOWu_fv",
        "colab_type": "code",
        "colab": {}
      },
      "source": [
        "from sklearn.preprocessing import MultiLabelBinarizer"
      ],
      "execution_count": 0,
      "outputs": []
    },
    {
      "cell_type": "code",
      "metadata": {
        "id": "LvcjwnCeu_fz",
        "colab_type": "code",
        "colab": {}
      },
      "source": [
        "mlb = MultiLabelBinarizer(classes=sorted(tags_counts.keys()))\n",
        "y_train = mlb.fit_transform(y_train)\n",
        "y_val = mlb.fit_transform(y_val)"
      ],
      "execution_count": 0,
      "outputs": []
    },
    {
      "cell_type": "markdown",
      "metadata": {
        "id": "jeuZe_e9u_f2",
        "colab_type": "text"
      },
      "source": [
        "Implement the function *train_classifier* for training a classifier. In this task we suggest to use One-vs-Rest approach, which is implemented in [OneVsRestClassifier](http://scikit-learn.org/stable/modules/generated/sklearn.multiclass.OneVsRestClassifier.html) class. In this approach *k* classifiers (= number of tags) are trained. As a basic classifier, use [LogisticRegression](http://scikit-learn.org/stable/modules/generated/sklearn.linear_model.LogisticRegression.html). It is one of the simplest methods, but often it performs good enough in text classification tasks. It might take some time, because a number of classifiers to train is large."
      ]
    },
    {
      "cell_type": "code",
      "metadata": {
        "id": "7_xH87Gpu_f2",
        "colab_type": "code",
        "colab": {}
      },
      "source": [
        "from sklearn.multiclass import OneVsRestClassifier\n",
        "from sklearn.linear_model import LogisticRegression, RidgeClassifier"
      ],
      "execution_count": 0,
      "outputs": []
    },
    {
      "cell_type": "code",
      "metadata": {
        "id": "2LvH0KERu_f7",
        "colab_type": "code",
        "colab": {}
      },
      "source": [
        "def train_classifier(X_train, y_train, penalty = \"l2\", C=1.0):\n",
        "    \"\"\"\n",
        "      X_train, y_train — training data\n",
        "      \n",
        "      return: trained classifier\n",
        "    \"\"\"\n",
        "    \n",
        "    # Create and fit LogisticRegression wraped into OneVsRestClassifier.\n",
        "\n",
        "    lg = LogisticRegression(penalty=penalty,C=C, solver=\"liblinear\", max_iter = 100) \n",
        "    ovrclassf = OneVsRestClassifier(lg)\n",
        "    ovrclassf.fit(X_train, y_train)\n",
        "    return ovrclassf "
      ],
      "execution_count": 0,
      "outputs": []
    },
    {
      "cell_type": "code",
      "metadata": {
        "id": "q2xat5h8tDb1",
        "colab_type": "code",
        "colab": {
          "base_uri": "https://localhost:8080/",
          "height": 68
        },
        "outputId": "adb886ba-789d-476a-85c8-a7552cac6472"
      },
      "source": [
        "print(X_train_mybag.shape)\n",
        "print(y_train.shape)\n",
        "print(X_train_tfidf.shape)"
      ],
      "execution_count": 152,
      "outputs": [
        {
          "output_type": "stream",
          "text": [
            "(100000, 5000)\n",
            "(100000, 100)\n",
            "(100000, 18300)\n"
          ],
          "name": "stdout"
        }
      ]
    },
    {
      "cell_type": "markdown",
      "metadata": {
        "id": "4t-2X5Ggu_f_",
        "colab_type": "text"
      },
      "source": [
        "Train the classifiers for different data transformations: *bag-of-words* and *tf-idf*."
      ]
    },
    {
      "cell_type": "code",
      "metadata": {
        "id": "qS7mdJSEu_f_",
        "colab_type": "code",
        "colab": {}
      },
      "source": [
        "classifier_mybag = train_classifier(X_train_mybag, y_train)\n",
        "classifier_tfidf = train_classifier(X_train_tfidf, y_train)"
      ],
      "execution_count": 0,
      "outputs": []
    },
    {
      "cell_type": "markdown",
      "metadata": {
        "id": "c3-bNHXlu_gC",
        "colab_type": "text"
      },
      "source": [
        "Now you can create predictions for the data. You will need two types of predictions: labels and scores."
      ]
    },
    {
      "cell_type": "code",
      "metadata": {
        "id": "n9xByBfsu_gD",
        "colab_type": "code",
        "colab": {}
      },
      "source": [
        "y_val_predicted_labels_mybag = classifier_mybag.predict(X_val_mybag)\n",
        "y_val_predicted_scores_mybag = classifier_mybag.decision_function(X_val_mybag)\n",
        "\n",
        "y_val_predicted_labels_tfidf = classifier_tfidf.predict(X_val_tfidf)\n",
        "y_val_predicted_scores_tfidf = classifier_tfidf.decision_function(X_val_tfidf)"
      ],
      "execution_count": 0,
      "outputs": []
    },
    {
      "cell_type": "markdown",
      "metadata": {
        "id": "g-4xuYDXu_gJ",
        "colab_type": "text"
      },
      "source": [
        "Now take a look at how classifier, which uses TF-IDF, works for a few examples:"
      ]
    },
    {
      "cell_type": "code",
      "metadata": {
        "id": "zmwiNVreu_gK",
        "colab_type": "code",
        "colab": {
          "base_uri": "https://localhost:8080/",
          "height": 272
        },
        "outputId": "563fa943-4fd4-42f0-e082-66bdf2baa7a2"
      },
      "source": [
        "y_val_pred_inversed = mlb.inverse_transform(y_val_predicted_labels_tfidf)\n",
        "y_val_inversed = mlb.inverse_transform(y_val)\n",
        "for i in range(3):\n",
        "    print('Title:\\t{}\\nTrue labels:\\t{}\\nPredicted labels:\\t{}\\n\\n'.format(\n",
        "        X_val[i],\n",
        "        ','.join(y_val_inversed[i]),\n",
        "        ','.join(y_val_pred_inversed[i])\n",
        "    ))"
      ],
      "execution_count": 157,
      "outputs": [
        {
          "output_type": "stream",
          "text": [
            "Title:\todbc_exec always fail\n",
            "True labels:\tphp,sql\n",
            "Predicted labels:\t\n",
            "\n",
            "\n",
            "Title:\taccess base classes variable within child class\n",
            "True labels:\tjavascript\n",
            "Predicted labels:\t\n",
            "\n",
            "\n",
            "Title:\tcontenttype application json required rails\n",
            "True labels:\truby,ruby-on-rails\n",
            "Predicted labels:\tjson,ruby-on-rails\n",
            "\n",
            "\n"
          ],
          "name": "stdout"
        }
      ]
    },
    {
      "cell_type": "markdown",
      "metadata": {
        "id": "D6fJRS1Au_gN",
        "colab_type": "text"
      },
      "source": [
        "Now, we would need to compare the results of different predictions, e.g. to see whether TF-IDF transformation helps or to try different regularization techniques in logistic regression. For all these experiments, we need to setup evaluation procedure. "
      ]
    },
    {
      "cell_type": "markdown",
      "metadata": {
        "id": "IPXPDlDlu_gO",
        "colab_type": "text"
      },
      "source": [
        "### Evaluation\n",
        "\n",
        "To evaluate the results we will use several classification metrics:\n",
        " - [Accuracy](http://scikit-learn.org/stable/modules/generated/sklearn.metrics.accuracy_score.html)\n",
        " - [F1-score](http://scikit-learn.org/stable/modules/generated/sklearn.metrics.f1_score.html)\n",
        " - [Area under ROC-curve](http://scikit-learn.org/stable/modules/generated/sklearn.metrics.roc_auc_score.html)\n",
        " - [Area under precision-recall curve](http://scikit-learn.org/stable/modules/generated/sklearn.metrics.average_precision_score.html#sklearn.metrics.average_precision_score) \n",
        " \n",
        "Make sure you are familiar with all of them. How would you expect the things work for the multi-label scenario? Read about micro/macro/weighted averaging following the sklearn links provided above."
      ]
    },
    {
      "cell_type": "code",
      "metadata": {
        "id": "_q56rpuUu_gP",
        "colab_type": "code",
        "colab": {}
      },
      "source": [
        "from sklearn.metrics import accuracy_score\n",
        "from sklearn.metrics import f1_score\n",
        "from sklearn.metrics import roc_auc_score \n",
        "from sklearn.metrics import average_precision_score\n",
        "from sklearn.metrics import recall_score"
      ],
      "execution_count": 0,
      "outputs": []
    },
    {
      "cell_type": "markdown",
      "metadata": {
        "id": "MhZNrrtzu_gT",
        "colab_type": "text"
      },
      "source": [
        "Implement the function *print_evaluation_scores* which calculates and prints to stdout:\n",
        " - *accuracy*\n",
        " - *F1-score macro/micro/weighted*\n",
        " - *Precision macro/micro/weighted*"
      ]
    },
    {
      "cell_type": "code",
      "metadata": {
        "id": "ENGQS5nNu_gU",
        "colab_type": "code",
        "colab": {}
      },
      "source": [
        "def print_evaluation_scores(y_val, predicted):\n",
        "    accuracy = accuracy_score(y_val, predicted)\n",
        "    f1_score_micro = f1_score(y_val, predicted, average = \"micro\")\n",
        "    f1_score_macro = f1_score(y_val, predicted, average = \"macro\")\n",
        "    f1_score_weighted = f1_score(y_val, predicted, average = \"weighted\")\n",
        "    precision_micro = average_precision_score(y_val, predicted, average = \"micro\")\n",
        "    precision_macro = average_precision_score(y_val, predicted, average = \"macro\")\n",
        "    precision_weighted = average_precision_score(y_val, predicted, average = \"weighted\")\n",
        "\n",
        "    print(accuracy)\n",
        "    print(f1_score_micro)\n",
        "    print(f1_score_macro)\n",
        "    print(f1_score_weighted)\n",
        "    print(precision_micro)\n",
        "    print(precision_macro)\n",
        "    print(precision_weighted)"
      ],
      "execution_count": 0,
      "outputs": []
    },
    {
      "cell_type": "code",
      "metadata": {
        "id": "bMZRzXOuu_gX",
        "colab_type": "code",
        "colab": {
          "base_uri": "https://localhost:8080/",
          "height": 289
        },
        "outputId": "93d7a2f2-55a4-4f24-8071-fd859e67a1eb"
      },
      "source": [
        "print('Bag-of-words')\n",
        "print_evaluation_scores(y_val, y_val_predicted_labels_mybag)\n",
        "print('Tfidf')\n",
        "print_evaluation_scores(y_val, y_val_predicted_labels_tfidf)"
      ],
      "execution_count": 159,
      "outputs": [
        {
          "output_type": "stream",
          "text": [
            "Bag-of-words\n",
            "0.3617\n",
            "0.673966062996212\n",
            "0.5079323683399959\n",
            "0.651701359097535\n",
            "0.48481046397119615\n",
            "0.3486015635901456\n",
            "0.5140585406065622\n",
            "Tfidf\n",
            "0.33393333333333336\n",
            "0.6418233967551946\n",
            "0.44570945215918634\n",
            "0.6143634328155098\n",
            "0.4570020540292232\n",
            "0.3020320489939477\n",
            "0.4851114604464971\n"
          ],
          "name": "stdout"
        }
      ]
    },
    {
      "cell_type": "markdown",
      "metadata": {
        "id": "l9CZwuDZu_gb",
        "colab_type": "text"
      },
      "source": [
        "You might also want to plot some generalization of the [ROC curve](http://scikit-learn.org/stable/modules/model_evaluation.html#receiver-operating-characteristic-roc) for the case of multi-label classification. Provided function *roc_auc* can make it for you. The input parameters of this function are:\n",
        " - true labels\n",
        " - decision functions scores\n",
        " - number of classes"
      ]
    },
    {
      "cell_type": "code",
      "metadata": {
        "id": "nssmswKWu_gb",
        "colab_type": "code",
        "colab": {}
      },
      "source": [
        "from metrics import roc_auc\n",
        "%matplotlib inline"
      ],
      "execution_count": 0,
      "outputs": []
    },
    {
      "cell_type": "code",
      "metadata": {
        "id": "0nJ7jJPCu_ge",
        "colab_type": "code",
        "colab": {
          "base_uri": "https://localhost:8080/",
          "height": 295
        },
        "outputId": "f55e6f48-2796-488f-96b1-6273c18b332f"
      },
      "source": [
        "n_classes = len(tags_counts)\n",
        "roc_auc(y_val, y_val_predicted_scores_mybag, n_classes)"
      ],
      "execution_count": 160,
      "outputs": [
        {
          "output_type": "display_data",
          "data": {
            "image/png": "[encoded data removed]",
            "text/plain": [
              "<Figure size 432x288 with 1 Axes>"
            ]
          },
          "metadata": {
            "tags": [],
            "needs_background": "light"
          }
        }
      ]
    },
    {
      "cell_type": "code",
      "metadata": {
        "id": "Ba4_him7u_gi",
        "colab_type": "code",
        "colab": {
          "base_uri": "https://localhost:8080/",
          "height": 295
        },
        "outputId": "fd1eec8b-eb89-44d7-ba30-85fb9c9f4e76"
      },
      "source": [
        "n_classes = len(tags_counts)\n",
        "roc_auc(y_val, y_val_predicted_scores_tfidf, n_classes)"
      ],
      "execution_count": 161,
      "outputs": [
        {
          "output_type": "display_data",
          "data": {
            "image/png": "[encoded data removed]",
            "text/plain": [
              "<Figure size 432x288 with 1 Axes>"
            ]
          },
          "metadata": {
            "tags": [],
            "needs_background": "light"
          }
        }
      ]
    },
    {
      "cell_type": "markdown",
      "metadata": {
        "id": "l3ne_4VYu_gm",
        "colab_type": "text"
      },
      "source": [
        "**Task 4 (MultilabelClassification).** Once we have the evaluation set up, we suggest that you experiment a bit with training your classifiers. We will use *F1-score weighted* as an evaluation metric. Our recommendation:\n",
        "- compare the quality of the bag-of-words and TF-IDF approaches and chose one of them.\n",
        "- for the chosen one, try *L1* and *L2*-regularization techniques in Logistic Regression with different coefficients (e.g. C equal to 0.1, 1, 10, 100).\n",
        "\n",
        "You also could try other improvements of the preprocessing / model, if you want. "
      ]
    },
    {
      "cell_type": "code",
      "metadata": {
        "id": "62BwAMnTu_gn",
        "colab_type": "code",
        "colab": {
          "base_uri": "https://localhost:8080/",
          "height": 697
        },
        "outputId": "c6e798bb-0280-41be-f1c7-3dcd26652566"
      },
      "source": [
        "for penalty in (\"l1\", \"l2\"):\n",
        "  for C in (0.1, 1 , 10, 100):\n",
        "    print(\"Penalty: \", penalty, \"C: \", C)\n",
        "    classifier_mybag = train_classifier(X_train_mybag, y_train, penalty, C)\n",
        "    classifier_tfidf = train_classifier(X_train_tfidf, y_train, penalty, C)\n",
        "\n",
        "    y_val_predicted_labels_mybag = classifier_mybag.predict(X_val_mybag)\n",
        "    y_val_predicted_labels_tfidf = classifier_tfidf.predict(X_val_tfidf)\n",
        "\n",
        "    print(\"Bag of Words\")\n",
        "    print(\"F1-score weighted: \", f1_score(y_val, y_val_predicted_labels_mybag, average = \"weighted\"))\n",
        "    print(\"Tfidf\")\n",
        "    print(\"F1-socre weighted: \", f1_score(y_val, y_val_predicted_labels_tfidf, average = \"weighted\"))"
      ],
      "execution_count": 167,
      "outputs": [
        {
          "output_type": "stream",
          "text": [
            "Penalty:  l1 C:  0.1\n",
            "Bag of Words\n",
            "F1-score weighted:  0.6148965212787012\n",
            "Tfidf\n",
            "F1-socre weighted:  0.5664264110203743\n",
            "Penalty:  l1 C:  1\n",
            "Bag of Words\n",
            "F1-score weighted:  0.6581540506138422\n",
            "Tfidf\n",
            "F1-socre weighted:  0.6524298624155009\n",
            "Penalty:  l1 C:  10\n",
            "Bag of Words\n",
            "F1-score weighted:  0.6494973818511899\n",
            "Tfidf\n",
            "F1-socre weighted:  0.6481065123798297\n",
            "Penalty:  l1 C:  100\n",
            "Bag of Words\n",
            "F1-score weighted:  0.6207297655659969\n",
            "Tfidf\n",
            "F1-socre weighted:  0.5877824506836522\n",
            "Penalty:  l2 C:  0.1\n",
            "Bag of Words\n",
            "F1-score weighted:  0.5931877355699616\n",
            "Tfidf\n",
            "F1-socre weighted:  0.3922289028503371\n",
            "Penalty:  l2 C:  1\n",
            "Bag of Words\n",
            "F1-score weighted:  0.651701359097535\n",
            "Tfidf\n",
            "F1-socre weighted:  0.6143634328155098\n",
            "Penalty:  l2 C:  10\n",
            "Bag of Words\n",
            "F1-score weighted:  0.6539237236195224\n",
            "Tfidf\n",
            "F1-socre weighted:  0.654028149287331\n",
            "Penalty:  l2 C:  100\n",
            "Bag of Words\n",
            "F1-score weighted:  0.6345264738335666\n",
            "Tfidf\n",
            "F1-socre weighted:  0.6275615662475186\n"
          ],
          "name": "stdout"
        }
      ]
    },
    {
      "cell_type": "code",
      "metadata": {
        "id": "d8foteqySrgG",
        "colab_type": "code",
        "colab": {}
      },
      "source": [
        "# So based on the above results we will use Tfidf insted of simple Bag of Words approach with l1 regularization with C = 1\n",
        "classifier_tfidf = train_classifier(X_train_tfidf, y_train, penalty = \"l1\", C=1.0)"
      ],
      "execution_count": 0,
      "outputs": []
    },
    {
      "cell_type": "markdown",
      "metadata": {
        "id": "EHQk7I_vu_gr",
        "colab_type": "text"
      },
      "source": [
        "When you are happy with the quality, create predictions for *test* set, which you will submit to Coursera."
      ]
    },
    {
      "cell_type": "code",
      "metadata": {
        "id": "L3BYdVeHu_gs",
        "colab_type": "code",
        "colab": {
          "base_uri": "https://localhost:8080/",
          "height": 187
        },
        "outputId": "f9aee754-2d6f-40f0-d6f6-ea78910ca6ea"
      },
      "source": [
        "test_predictions = classifier_tfidf.predict(X_test_tfidf)\n",
        "test_pred_inversed = mlb.inverse_transform(test_predictions)\n",
        "\n",
        "test_predictions_for_submission = '\\n'.join('%i\\t%s' % (i, ','.join(row)) for i, row in enumerate(test_pred_inversed))\n",
        "grader.submit_tag('MultilabelClassification', test_predictions_for_submission)"
      ],
      "execution_count": 169,
      "outputs": [
        {
          "output_type": "stream",
          "text": [
            "Current answer for task MultilabelClassification is:\n",
            " 0\tmysql,php\n",
            "1\tjavascript\n",
            "2\t\n",
            "3\tjavascript,jquery\n",
            "4\tandroid,java\n",
            "5\tphp,xml\n",
            "6\tjson\n",
            "7\tjava,swing\n",
            "8\tpytho...\n"
          ],
          "name": "stdout"
        }
      ]
    },
    {
      "cell_type": "markdown",
      "metadata": {
        "id": "AnQSLdFQu_gu",
        "colab_type": "text"
      },
      "source": [
        "### Analysis of the most important features"
      ]
    },
    {
      "cell_type": "markdown",
      "metadata": {
        "id": "gFRUxhTku_gv",
        "colab_type": "text"
      },
      "source": [
        "Finally, it is usually a good idea to look at the features (words or n-grams) that are used with the largest weigths in your logistic regression model."
      ]
    },
    {
      "cell_type": "markdown",
      "metadata": {
        "id": "9gTh6jUiu_gv",
        "colab_type": "text"
      },
      "source": [
        "Implement the function *print_words_for_tag* to find them. Get back to sklearn documentation on [OneVsRestClassifier](http://scikit-learn.org/stable/modules/generated/sklearn.multiclass.OneVsRestClassifier.html) and [LogisticRegression](http://scikit-learn.org/stable/modules/generated/sklearn.linear_model.LogisticRegression.html) if needed."
      ]
    },
    {
      "cell_type": "code",
      "metadata": {
        "id": "tnQTfljPu_gw",
        "colab_type": "code",
        "colab": {}
      },
      "source": [
        "def print_words_for_tag(classifier, tag, tags_classes, index_to_words, all_words):\n",
        "    \"\"\"\n",
        "        classifier: trained classifier\n",
        "        tag: particular tag\n",
        "        tags_classes: a list of classes names from MultiLabelBinarizer\n",
        "        index_to_words: index_to_words transformation\n",
        "        all_words: all words in the dictionary\n",
        "        \n",
        "        return nothing, just print top 5 positive and top 5 negative words for current tag\n",
        "    \"\"\"\n",
        "    print('Tag:\\t{}'.format(tag))\n",
        "    \n",
        "    # Extract an estimator from the classifier for the given tag.\n",
        "    # Extract feature coefficients from the estimator. \n",
        "    \n",
        "    lr_classifier = classifier.estimators_[tags_classes.index(tag)]\n",
        "    coeffs = lr_classifier.coef_[0]\n",
        "\n",
        "    top = sorted(range(len(coeffs)), key=lambda x: coeffs[x])[-10:]\n",
        "    bottom = sorted(range(len(coeffs)), key=lambda x: coeffs[x])[:10]\n",
        "    \n",
        "    top_positive_words = [index_to_words[i] for i in top] # top-5 words sorted by the coefficiens.\n",
        "    top_negative_words = [index_to_words[i] for i in bottom] # bottom-5 words  sorted by the coefficients.\n",
        "    print('Top positive words:\\t{}'.format(', '.join(top_positive_words)))\n",
        "    print('Top negative words:\\t{}\\n'.format(', '.join(top_negative_words)))"
      ],
      "execution_count": 0,
      "outputs": []
    },
    {
      "cell_type": "code",
      "metadata": {
        "id": "s-OKfE9qu_gz",
        "colab_type": "code",
        "colab": {
          "base_uri": "https://localhost:8080/",
          "height": 221
        },
        "outputId": "331e45cf-f871-4909-bf53-6aedf30fb712"
      },
      "source": [
        "print_words_for_tag(classifier_tfidf, 'c', mlb.classes, tfidf_reversed_vocab, ALL_WORDS)\n",
        "print_words_for_tag(classifier_tfidf, 'c++', mlb.classes, tfidf_reversed_vocab, ALL_WORDS)\n",
        "print_words_for_tag(classifier_tfidf, 'linux', mlb.classes, tfidf_reversed_vocab, ALL_WORDS)"
      ],
      "execution_count": 172,
      "outputs": [
        {
          "output_type": "stream",
          "text": [
            "Tag:\tc\n",
            "Top positive words:\tpointer, sscanf, gcc, fork, kernel, fscanf, printf, malloc, scanf, c\n",
            "Top negative words:\tphp, javascript, java, python, objective, c#, jquery, swift, objective c, rails\n",
            "\n",
            "Tag:\tc++\n",
            "Top positive words:\tqml, g++, boostasio, c++11, stl, stdstring, mfc, qt, boost, c++\n",
            "Top negative words:\tphp, java, javascript, python, jquery, c#, c++ stl, swift, ruby, r\n",
            "\n",
            "Tag:\tlinux\n",
            "Top positive words:\tkilled, shared, cron, centos, address, system call, ubuntu, signal, kernel space, linux\n",
            "Top negative words:\tjavascript, c#, jquery, array, aspnet, method, page, android, image, html\n",
            "\n"
          ],
          "name": "stdout"
        }
      ]
    },
    {
      "cell_type": "markdown",
      "metadata": {
        "id": "gM9F18tTu_g3",
        "colab_type": "text"
      },
      "source": [
        "### Authorization & Submission\n",
        "To submit assignment parts to Cousera platform, please, enter your e-mail and token into variables below. You can generate token on this programming assignment page. <b>Note:</b> Token expires 30 minutes after generation."
      ]
    },
    {
      "cell_type": "code",
      "metadata": {
        "id": "JFOV7wgNu_g4",
        "colab_type": "code",
        "colab": {
          "base_uri": "https://localhost:8080/",
          "height": 374
        },
        "outputId": "2c89738c-bdc6-4d3f-b273-3a29d832b08d"
      },
      "source": [
        "grader.status()"
      ],
      "execution_count": 173,
      "outputs": [
        {
          "output_type": "stream",
          "text": [
            "You want to submit these parts:\n",
            "Task TextPrepare:\n",
            " sqlite php readonly\n",
            "creating multiple textboxes dynamically\n",
            "self one prefer javascript\n",
            "save php date...\n",
            "Task WordsTagsCount:\n",
            " javascript,c#,java\n",
            "using,php,java...\n",
            "Task BagOfWords:\n",
            " 7...\n",
            "Task MultilabelClassification:\n",
            " 0\tmysql,php\n",
            "1\tjavascript\n",
            "2\t\n",
            "3\tjavascript,jquery\n",
            "4\tandroid,java\n",
            "5\tphp,xml\n",
            "6\tjson\n",
            "7\tjava,swing\n",
            "8\tpytho...\n"
          ],
          "name": "stdout"
        }
      ]
    },
    {
      "cell_type": "code",
      "metadata": {
        "id": "BK01Ls1Qu_g-",
        "colab_type": "code",
        "colab": {
          "base_uri": "https://localhost:8080/",
          "height": 197
        },
        "outputId": "f67147e5-aaf8-4ba3-d721-ed02299af06f"
      },
      "source": [
        "STUDENT_EMAIL = \"pk2649945@gmail.com\"\n",
        "STUDENT_TOKEN = \"BfDsBILBHE4iCsgn\"\n",
        "grader.status()"
      ],
      "execution_count": 174,
      "outputs": [
        {
          "output_type": "error",
          "ename": "NameError",
          "evalue": "ignored",
          "traceback": [
            "\u001b[0;31m---------------------------------------------------------------------------\u001b[0m",
            "\u001b[0;31mNameError\u001b[0m                                 Traceback (most recent call last)",
            "\u001b[0;32m<ipython-input-174-64f10348b4a7>\u001b[0m in \u001b[0;36m<module>\u001b[0;34m()\u001b[0m\n\u001b[0;32m----> 1\u001b[0;31m \u001b[0mSTUDENT_EMAIL\u001b[0m \u001b[0;34m=\u001b[0m \u001b[0mpk2649945\u001b[0m\u001b[0;34m@\u001b[0m\u001b[0mgmail\u001b[0m\u001b[0;34m.\u001b[0m\u001b[0mcom\u001b[0m\u001b[0;34m\u001b[0m\u001b[0;34m\u001b[0m\u001b[0m\n\u001b[0m\u001b[1;32m      2\u001b[0m \u001b[0mSTUDENT_TOKEN\u001b[0m \u001b[0;34m=\u001b[0m \u001b[0mBfDsBILBHE4iCsgn\u001b[0m\u001b[0;34m\u001b[0m\u001b[0;34m\u001b[0m\u001b[0m\n\u001b[1;32m      3\u001b[0m \u001b[0mgrader\u001b[0m\u001b[0;34m.\u001b[0m\u001b[0mstatus\u001b[0m\u001b[0;34m(\u001b[0m\u001b[0;34m)\u001b[0m\u001b[0;34m\u001b[0m\u001b[0;34m\u001b[0m\u001b[0m\n",
            "\u001b[0;31mNameError\u001b[0m: name 'pk2649945' is not defined"
          ]
        }
      ]
    },
    {
      "cell_type": "markdown",
      "metadata": {
        "id": "KVhi69wDu_hC",
        "colab_type": "text"
      },
      "source": [
        "If you want to submit these answers, run cell below"
      ]
    },
    {
      "cell_type": "code",
      "metadata": {
        "id": "Fy6-o28Mu_hD",
        "colab_type": "code",
        "colab": {}
      },
      "source": [
        "grader.submit(STUDENT_EMAIL, STUDENT_TOKEN)"
      ],
      "execution_count": 0,
      "outputs": []
    }
  ]
}